{
 "cells": [
  {
   "cell_type": "markdown",
   "metadata": {},
   "source": [
    "# Practice notebook for hypothesis tests using NHANES data\n",
    "\n",
    "This notebook will give you the opportunity to perform some hypothesis tests with the NHANES data that are similar to\n",
    "what was done in the week 3 case study notebook.\n",
    "\n",
    "You can enter your code into the cells that say \"enter your code here\", and you can type responses to the questions into the cells that say \"Type Markdown and Latex\".\n",
    "\n",
    "Note that most of the code that you will need to write below is very similar to code that appears in the case study notebook.  You will need to edit code from that notebook in small ways to adapt it to the prompts below.\n",
    "\n",
    "To get started, we will use the same module imports and read the data in the same way as we did in the case study:"
   ]
  },
  {
   "cell_type": "code",
   "execution_count": 1,
   "metadata": {},
   "outputs": [],
   "source": [
    "import matplotlib.pyplot as plt\n",
    "import seaborn as sns\n",
    "import pandas as pd\n",
    "import statsmodels.api as sm\n",
    "import numpy as np\n",
    "import scipy.stats\n",
    "\n",
    "da = pd.read_csv(\"nhanes_2015_2016.csv\")"
   ]
  },
  {
   "cell_type": "markdown",
   "metadata": {},
   "source": [
    "## Question 1\n",
    "\n",
    "Conduct a hypothesis test (at the 0.05 level) for the null hypothesis that the proportion of women who smoke is equal to the proportion of men who smoke."
   ]
  },
  {
   "cell_type": "code",
   "execution_count": 2,
   "metadata": {},
   "outputs": [
    {
     "data": {
      "text/html": [
       "<div>\n",
       "<style scoped>\n",
       "    .dataframe tbody tr th:only-of-type {\n",
       "        vertical-align: middle;\n",
       "    }\n",
       "\n",
       "    .dataframe tbody tr th {\n",
       "        vertical-align: top;\n",
       "    }\n",
       "\n",
       "    .dataframe thead th {\n",
       "        text-align: right;\n",
       "    }\n",
       "</style>\n",
       "<table border=\"1\" class=\"dataframe\">\n",
       "  <thead>\n",
       "    <tr style=\"text-align: right;\">\n",
       "      <th></th>\n",
       "      <th>SEQN</th>\n",
       "      <th>ALQ101</th>\n",
       "      <th>ALQ110</th>\n",
       "      <th>ALQ130</th>\n",
       "      <th>SMQ020</th>\n",
       "      <th>RIAGENDR</th>\n",
       "      <th>RIDAGEYR</th>\n",
       "      <th>RIDRETH1</th>\n",
       "      <th>DMDCITZN</th>\n",
       "      <th>DMDEDUC2</th>\n",
       "      <th>...</th>\n",
       "      <th>BPXSY2</th>\n",
       "      <th>BPXDI2</th>\n",
       "      <th>BMXWT</th>\n",
       "      <th>BMXHT</th>\n",
       "      <th>BMXBMI</th>\n",
       "      <th>BMXLEG</th>\n",
       "      <th>BMXARML</th>\n",
       "      <th>BMXARMC</th>\n",
       "      <th>BMXWAIST</th>\n",
       "      <th>HIQ210</th>\n",
       "    </tr>\n",
       "  </thead>\n",
       "  <tbody>\n",
       "    <tr>\n",
       "      <th>0</th>\n",
       "      <td>83732</td>\n",
       "      <td>1.0</td>\n",
       "      <td>NaN</td>\n",
       "      <td>1.0</td>\n",
       "      <td>1</td>\n",
       "      <td>1</td>\n",
       "      <td>62</td>\n",
       "      <td>3</td>\n",
       "      <td>1.0</td>\n",
       "      <td>5.0</td>\n",
       "      <td>...</td>\n",
       "      <td>124.0</td>\n",
       "      <td>64.0</td>\n",
       "      <td>94.8</td>\n",
       "      <td>184.5</td>\n",
       "      <td>27.8</td>\n",
       "      <td>43.3</td>\n",
       "      <td>43.6</td>\n",
       "      <td>35.9</td>\n",
       "      <td>101.1</td>\n",
       "      <td>2.0</td>\n",
       "    </tr>\n",
       "    <tr>\n",
       "      <th>1</th>\n",
       "      <td>83733</td>\n",
       "      <td>1.0</td>\n",
       "      <td>NaN</td>\n",
       "      <td>6.0</td>\n",
       "      <td>1</td>\n",
       "      <td>1</td>\n",
       "      <td>53</td>\n",
       "      <td>3</td>\n",
       "      <td>2.0</td>\n",
       "      <td>3.0</td>\n",
       "      <td>...</td>\n",
       "      <td>140.0</td>\n",
       "      <td>88.0</td>\n",
       "      <td>90.4</td>\n",
       "      <td>171.4</td>\n",
       "      <td>30.8</td>\n",
       "      <td>38.0</td>\n",
       "      <td>40.0</td>\n",
       "      <td>33.2</td>\n",
       "      <td>107.9</td>\n",
       "      <td>NaN</td>\n",
       "    </tr>\n",
       "    <tr>\n",
       "      <th>2</th>\n",
       "      <td>83734</td>\n",
       "      <td>1.0</td>\n",
       "      <td>NaN</td>\n",
       "      <td>NaN</td>\n",
       "      <td>1</td>\n",
       "      <td>1</td>\n",
       "      <td>78</td>\n",
       "      <td>3</td>\n",
       "      <td>1.0</td>\n",
       "      <td>3.0</td>\n",
       "      <td>...</td>\n",
       "      <td>132.0</td>\n",
       "      <td>44.0</td>\n",
       "      <td>83.4</td>\n",
       "      <td>170.1</td>\n",
       "      <td>28.8</td>\n",
       "      <td>35.6</td>\n",
       "      <td>37.0</td>\n",
       "      <td>31.0</td>\n",
       "      <td>116.5</td>\n",
       "      <td>2.0</td>\n",
       "    </tr>\n",
       "    <tr>\n",
       "      <th>3</th>\n",
       "      <td>83735</td>\n",
       "      <td>2.0</td>\n",
       "      <td>1.0</td>\n",
       "      <td>1.0</td>\n",
       "      <td>2</td>\n",
       "      <td>2</td>\n",
       "      <td>56</td>\n",
       "      <td>3</td>\n",
       "      <td>1.0</td>\n",
       "      <td>5.0</td>\n",
       "      <td>...</td>\n",
       "      <td>134.0</td>\n",
       "      <td>68.0</td>\n",
       "      <td>109.8</td>\n",
       "      <td>160.9</td>\n",
       "      <td>42.4</td>\n",
       "      <td>38.5</td>\n",
       "      <td>37.7</td>\n",
       "      <td>38.3</td>\n",
       "      <td>110.1</td>\n",
       "      <td>2.0</td>\n",
       "    </tr>\n",
       "    <tr>\n",
       "      <th>4</th>\n",
       "      <td>83736</td>\n",
       "      <td>2.0</td>\n",
       "      <td>1.0</td>\n",
       "      <td>1.0</td>\n",
       "      <td>2</td>\n",
       "      <td>2</td>\n",
       "      <td>42</td>\n",
       "      <td>4</td>\n",
       "      <td>1.0</td>\n",
       "      <td>4.0</td>\n",
       "      <td>...</td>\n",
       "      <td>114.0</td>\n",
       "      <td>54.0</td>\n",
       "      <td>55.2</td>\n",
       "      <td>164.9</td>\n",
       "      <td>20.3</td>\n",
       "      <td>37.4</td>\n",
       "      <td>36.0</td>\n",
       "      <td>27.2</td>\n",
       "      <td>80.4</td>\n",
       "      <td>2.0</td>\n",
       "    </tr>\n",
       "  </tbody>\n",
       "</table>\n",
       "<p>5 rows × 28 columns</p>\n",
       "</div>"
      ],
      "text/plain": [
       "    SEQN  ALQ101  ALQ110  ALQ130  SMQ020  RIAGENDR  RIDAGEYR  RIDRETH1  \\\n",
       "0  83732     1.0     NaN     1.0       1         1        62         3   \n",
       "1  83733     1.0     NaN     6.0       1         1        53         3   \n",
       "2  83734     1.0     NaN     NaN       1         1        78         3   \n",
       "3  83735     2.0     1.0     1.0       2         2        56         3   \n",
       "4  83736     2.0     1.0     1.0       2         2        42         4   \n",
       "\n",
       "   DMDCITZN  DMDEDUC2  ...  BPXSY2  BPXDI2  BMXWT  BMXHT  BMXBMI  BMXLEG  \\\n",
       "0       1.0       5.0  ...   124.0    64.0   94.8  184.5    27.8    43.3   \n",
       "1       2.0       3.0  ...   140.0    88.0   90.4  171.4    30.8    38.0   \n",
       "2       1.0       3.0  ...   132.0    44.0   83.4  170.1    28.8    35.6   \n",
       "3       1.0       5.0  ...   134.0    68.0  109.8  160.9    42.4    38.5   \n",
       "4       1.0       4.0  ...   114.0    54.0   55.2  164.9    20.3    37.4   \n",
       "\n",
       "   BMXARML  BMXARMC  BMXWAIST  HIQ210  \n",
       "0     43.6     35.9     101.1     2.0  \n",
       "1     40.0     33.2     107.9     NaN  \n",
       "2     37.0     31.0     116.5     2.0  \n",
       "3     37.7     38.3     110.1     2.0  \n",
       "4     36.0     27.2      80.4     2.0  \n",
       "\n",
       "[5 rows x 28 columns]"
      ]
     },
     "execution_count": 2,
     "metadata": {},
     "output_type": "execute_result"
    }
   ],
   "source": [
    "# Like usual we should always inspect our data before we jump in\n",
    "da.head()"
   ]
  },
  {
   "cell_type": "code",
   "execution_count": 3,
   "metadata": {},
   "outputs": [],
   "source": [
    "# Men are codeed as a 1 in this dataset and females are coded as a 2 in the RIAGENDR column\n",
    "gender = da['RIAGENDR']\n",
    "men = da[gender == 1]\n",
    "women = da[gender == 2]"
   ]
  },
  {
   "cell_type": "code",
   "execution_count": 13,
   "metadata": {},
   "outputs": [
    {
     "data": {
      "text/plain": [
       "'There are 77252 men, of whom 1413 of them are smokers'"
      ]
     },
     "execution_count": 13,
     "metadata": {},
     "output_type": "execute_result"
    }
   ],
   "source": [
    "# We need to get the total number of men and those who smoke. We need the same numbers for females as well\n",
    "men_who_smoke_count = np.sum(men['SMQ020'] == 1)\n",
    "men_count = men.size\n",
    "\"There are {} men, of whom {} of them are smokers\".format(men_count, men_who_smoke_count)"
   ]
  },
  {
   "cell_type": "code",
   "execution_count": 14,
   "metadata": {},
   "outputs": [
    {
     "data": {
      "text/plain": [
       "'There are 83328 women, of whom 906 are smokers'"
      ]
     },
     "execution_count": 14,
     "metadata": {},
     "output_type": "execute_result"
    }
   ],
   "source": [
    "women_who_smoke_count = np.sum(women['SMQ020'] == 1)\n",
    "women_count = women.size\n",
    "\"There are {} women, of whom {} are smokers\".format(women_count, women_who_smoke_count)"
   ]
  },
  {
   "cell_type": "code",
   "execution_count": 7,
   "metadata": {},
   "outputs": [
    {
     "name": "stdout",
     "output_type": "stream",
     "text": [
      "The proportion of men who smoke is 0.01829 while the proportion of women who smoke is 0.01087\n",
      "Our value for p-hat is 0.01444\n"
     ]
    }
   ],
   "source": [
    "# We can carry out the test of sig. for the diffence in two population proportions using the \n",
    "# formulas we have learned thus far\n",
    "\n",
    "# First, we have to pool the percentages together to get a single proportion for our test\n",
    "p1 = men_who_smoke_count / men_count\n",
    "p2 = women_who_smoke_count / women_count\n",
    "print(\"The proportion of men who smoke is {:.5f} while the proportion of women who smoke is {:.5f}\".format(p1, p2))\n",
    "phat = (men_count * p1 + women_count * p2) / (men_count + women_count)\n",
    "print(\"Our value for p-hat is {:.5f}\".format(phat))"
   ]
  },
  {
   "cell_type": "code",
   "execution_count": 8,
   "metadata": {},
   "outputs": [
    {
     "name": "stdout",
     "output_type": "stream",
     "text": [
      "The standard error of our measurement is 0.00060\n"
     ]
    }
   ],
   "source": [
    "# Second we have to compute the standard error of this pooled phat\n",
    "standard_error = np.sqrt(phat * (1 - phat) * (1 / men_count + 1 / women_count))\n",
    "print(\"The standard error of our measurement is {:.5f}\".format(standard_error))"
   ]
  },
  {
   "cell_type": "code",
   "execution_count": 9,
   "metadata": {},
   "outputs": [
    {
     "name": "stdout",
     "output_type": "stream",
     "text": [
      "Our value of z is 12.45\n"
     ]
    }
   ],
   "source": [
    "# Lastly, we can compute our z-value for our test\n",
    "z = (p1 - p2) / standard_error\n",
    "print(\"Our value of z is {:.2f}\".format(z))"
   ]
  },
  {
   "cell_type": "code",
   "execution_count": 10,
   "metadata": {},
   "outputs": [
    {
     "data": {
      "text/plain": [
       "'Our p-value is 0.000000000000000000000000000000'"
      ]
     },
     "execution_count": 10,
     "metadata": {},
     "output_type": "execute_result"
    }
   ],
   "source": [
    "# From this, we can compute our p-value -- remember this is a two sided test so we need to \n",
    "# multiply the final result by two\n",
    "p_one_tail = 1 - scipy.stats.norm.cdf(z)\n",
    "p_two_tail = 2 * p_one_tail\n",
    "\"Our p-value is {:.30f}\".format(p_two_tail)"
   ]
  },
  {
   "cell_type": "markdown",
   "metadata": {},
   "source": [
    "**Built-in Approach**"
   ]
  },
  {
   "cell_type": "code",
   "execution_count": 15,
   "metadata": {},
   "outputs": [
    {
     "name": "stdout",
     "output_type": "stream",
     "text": [
      "Z-statistic: 12.449474012047252\n",
      "P-value: 1.4076980619623232e-35\n",
      "Reject H0: The proportions of male and female smokers are significantly different.\n"
     ]
    }
   ],
   "source": [
    "from statsmodels.stats.proportion import proportions_ztest\n",
    "\n",
    "# Define counts of smokers and total samples\n",
    "smokers_counts = np.array([men_who_smoke_count, women_who_smoke_count])\n",
    "sample_sizes = np.array([men_count, women_count])\n",
    "\n",
    "# Perform two-proportion z-test\n",
    "z_stat, p_value = proportions_ztest(smokers_counts, sample_sizes, alternative='two-sided')\n",
    "\n",
    "print(f'Z-statistic: {z_stat}')\n",
    "print(f'P-value: {p_value}')\n",
    "\n",
    "# Interpretation\n",
    "if p_value < 0.05:\n",
    "    print(\"Reject H0: The proportions of male and female smokers are significantly different.\")\n",
    "else:\n",
    "    print(\"Fail to reject H0: No significant difference in smoking proportions between men and women.\")\n"
   ]
  },
  {
   "cell_type": "markdown",
   "metadata": {},
   "source": [
    "__Q1a.__ Write 1-2 sentences explaining the substance of your findings to someone who does not know anything about statistical hypothesis tests."
   ]
  },
  {
   "cell_type": "markdown",
   "metadata": {},
   "source": [
    "We have sufficient evidence to support the claim that the population proportion of men who smoke is different from the population proportion of females who smoke."
   ]
  },
  {
   "cell_type": "markdown",
   "metadata": {},
   "source": [
    "__Q1b.__ Construct three 95% confidence intervals: one for the proportion of women who smoke, one for the proportion of men who smoke, and one for the difference in the rates of smoking between women and men."
   ]
  },
  {
   "cell_type": "code",
   "execution_count": 11,
   "metadata": {},
   "outputs": [
    {
     "data": {
      "text/plain": [
       "'A confidence interval for the population proportion of males who smoke is from 0.017346 to 0.019236'"
      ]
     },
     "execution_count": 11,
     "metadata": {},
     "output_type": "execute_result"
    }
   ],
   "source": [
    "# It will be useful to have our z-multiplier handy beforehand for a 95% two-sided interval \n",
    "z_multiplier = scipy.stats.norm.ppf(0.975)\n",
    "\n",
    "# First, lets compute the interval for males:\n",
    "lower_bound_males = p1 - z_multiplier * np.sqrt(p1 * (1 - p1) / men_count)\n",
    "upper_bound_males = p1 + z_multiplier * np.sqrt(p1 * (1 - p1) / men_count)\n",
    "\"A confidence interval for the population proportion of males who smoke is from {:.6f} to {:.6f}\".format(\n",
    "    lower_bound_males, \n",
    "    upper_bound_males\n",
    ")"
   ]
  },
  {
   "cell_type": "code",
   "execution_count": 12,
   "metadata": {},
   "outputs": [
    {
     "data": {
      "text/plain": [
       "'A confidence interval for the population proportion of females who smoke is from 0.010169 to 0.011577'"
      ]
     },
     "execution_count": 12,
     "metadata": {},
     "output_type": "execute_result"
    }
   ],
   "source": [
    "# Next, we do the same for females\n",
    "lower_bound_females = p2 - z_multiplier * np.sqrt(p2 * (1 - p2) / women_count)\n",
    "upper_bound_females = p2 + z_multiplier * np.sqrt(p2 * (1 - p2) / women_count)\n",
    "\"A confidence interval for the population proportion of females who smoke is from {:.6f} to {:.6f}\".format(\n",
    "    lower_bound_females, \n",
    "    upper_bound_females\n",
    ")"
   ]
  },
  {
   "cell_type": "code",
   "execution_count": 14,
   "metadata": {},
   "outputs": [
    {
     "data": {
      "text/plain": [
       "'A confidence interval for the difference in the population proportion of males and females who smoke is from 0.006240 to 0.008597'"
      ]
     },
     "execution_count": 14,
     "metadata": {},
     "output_type": "execute_result"
    }
   ],
   "source": [
    "# Lastly, we can compute the confidence interval for the difference\n",
    "standard_error_of_difference = np.sqrt(p1 * (1 - p1) / men_count + p2 * (1 - p2) / women_count)\n",
    "lower_bound_difference = (p1 - p2) - z_multiplier * standard_error_of_difference\n",
    "upper_bound_difference = (p1 - p2) + z_multiplier * standard_error_of_difference\n",
    "\"A confidence interval for the difference in the population proportion of males and females who smoke is from {:.6f} to {:.6f}\".format(\n",
    "    lower_bound_difference, \n",
    "    upper_bound_difference\n",
    ")"
   ]
  },
  {
   "cell_type": "markdown",
   "metadata": {},
   "source": [
    "**Built-in Approach**"
   ]
  },
  {
   "cell_type": "code",
   "execution_count": 16,
   "metadata": {},
   "outputs": [
    {
     "name": "stdout",
     "output_type": "stream",
     "text": [
      "95% CI for proportion of men who smoke: (0.01734585589921952, 0.019235721276775926)\n",
      "95% CI for proportion of women who smoke: (0.010168574804288316, 0.011576816900780808)\n",
      "95% CI for difference in smoking proportions (men - women): (0.00623966826316763, 0.00859651720775869)\n"
     ]
    }
   ],
   "source": [
    "from statsmodels.stats.proportion import proportion_confint, confint_proportions_2indep\n",
    "\n",
    "# Confidence level\n",
    "alpha = 0.05\n",
    "\n",
    "# Compute 95% confidence intervals for men and women proportions\n",
    "ci_men = proportion_confint(count=men_who_smoke_count, nobs=men_count, alpha=alpha, method='normal')\n",
    "ci_women = proportion_confint(count=women_who_smoke_count, nobs=women_count, alpha=alpha, method='normal')\n",
    "\n",
    "# Compute 95% confidence interval for the difference in proportions\n",
    "ci_difference = confint_proportions_2indep(count1=men_who_smoke_count, nobs1=men_count,\n",
    "                                           count2=women_who_smoke_count, nobs2=women_count,\n",
    "                                           alpha=alpha, method='wald')\n",
    "\n",
    "# Print results\n",
    "print(f\"95% CI for proportion of men who smoke: {ci_men}\")\n",
    "print(f\"95% CI for proportion of women who smoke: {ci_women}\")\n",
    "print(f\"95% CI for difference in smoking proportions (men - women): {ci_difference}\")\n"
   ]
  },
  {
   "cell_type": "markdown",
   "metadata": {},
   "source": [
    "__Q1c.__ Comment on any ways in which the confidence intervals that you found in part b reinforce, contradict, or add support to the hypothesis test conducted in part a."
   ]
  },
  {
   "cell_type": "markdown",
   "metadata": {},
   "source": [
    "We can see the confidence interval for the difference between $p_1$ and $p_2$ which was from $(0.006240, 0.008597)$ does not contain zero which supports our original hypothesis that the difference is significantly different from zero. This is the same as saying $p_1$ and $p_2$ are different in a magnitude that is statistically significant. \n",
    "\n",
    "It would be incorrect to use the confidence intervals for just $p_1$ or just $p_2$ to access the significant of their difference. While it is reassuring they do not overlap, the only confidence interval that can provide evidence that $p_1$ and $p_2$ are statistically different is the confidence interval for their differences. "
   ]
  },
  {
   "cell_type": "markdown",
   "metadata": {},
   "source": [
    "## Question 2\n",
    "\n",
    "Partition the population into two groups based on whether a person has graduated college or not, using the educational attainment variable [DMDEDUC2](https://wwwn.cdc.gov/Nchs/Nhanes/2015-2016/DEMO_I.htm#DMDEDUC2).  Then conduct a test of the null hypothesis that the average heights (in centimeters) of the two groups are equal.  Next, convert the heights from centimeters to inches, and conduct a test of the null hypothesis that the average heights (in inches) of the two groups are equal."
   ]
  },
  {
   "cell_type": "code",
   "execution_count": 8,
   "metadata": {},
   "outputs": [],
   "source": [
    "# First we will get dataframes for both the college graduate population and those who have \n",
    "# not graduated college\n",
    "# graduated_college = da[da[\"DMDEDUC2\"] == 5]\n",
    "# not_graduated_college = da[[x !=5 for x in da[\"DMDEDUC2\"]]]\n",
    "# \"We have {} people who graduated college and {} who did not graduate college in our sample\".format(\n",
    "#     graduated_college.shape[0], \n",
    "#     not_graduated_college.shape[0]\n",
    "# )"
   ]
  },
  {
   "cell_type": "code",
   "execution_count": 19,
   "metadata": {},
   "outputs": [
    {
     "data": {
      "text/plain": [
       "'We have 1366 people who graduated college and 4105 who did not graduate college in our sample'"
      ]
     },
     "execution_count": 19,
     "metadata": {},
     "output_type": "execute_result"
    }
   ],
   "source": [
    "# First we will get dataframes for both the college graduate population and those who have \n",
    "# not graduated college\n",
    "graduated_college = da[da[\"DMDEDUC2\"] == 5]\n",
    "not_graduated_college = da[[x in [1,2,3,4] for x in da[\"DMDEDUC2\"]]]\n",
    "\"We have {} people who graduated college and {} who did not graduate college in our sample\".format(\n",
    "    graduated_college.shape[0], \n",
    "    not_graduated_college.shape[0]\n",
    ")"
   ]
  },
  {
   "cell_type": "code",
   "execution_count": 21,
   "metadata": {},
   "outputs": [],
   "source": []
  },
  {
   "cell_type": "code",
   "execution_count": 38,
   "metadata": {},
   "outputs": [],
   "source": [
    "# Extract the heights of the samples. It turns out we have some nan's in our dataset\n",
    "# so we have to clean those out too..\n",
    "height_college_grads = graduated_college['BMXHT'].dropna() \n",
    "height_non_college_grads = not_graduated_college['BMXHT'].dropna()\n",
    "\n",
    "# Make sure that we cleaned the dataset properly\n",
    "assert pd.notnull(height_college_grads).all()\n",
    "assert pd.notnull(height_non_college_grads).all()"
   ]
  },
  {
   "cell_type": "code",
   "execution_count": 23,
   "metadata": {},
   "outputs": [
    {
     "data": {
      "text/plain": [
       "'The standard deviation of college grad heights is: 9.705'"
      ]
     },
     "metadata": {},
     "output_type": "display_data"
    },
    {
     "data": {
      "text/plain": [
       "'The standard deviation of non college grad heights is: 10.174'"
      ]
     },
     "metadata": {},
     "output_type": "display_data"
    }
   ],
   "source": [
    "# If the standard deviations are at least within 2X of eachother, we can pool. Else we cannot \n",
    "# conduct a pooled test\n",
    "sd_college_grad_heights = np.std(height_college_grads, ddof = 1)\n",
    "sd_non_college_grad_heights = np.std(height_non_college_grads, ddof = 1)\n",
    "display(\"The standard deviation of college grad heights is: {:.3f}\".format(sd_college_grad_heights))\n",
    "display(\"The standard deviation of non college grad heights is: {:.3f}\".format(sd_non_college_grad_heights))"
   ]
  },
  {
   "cell_type": "code",
   "execution_count": 24,
   "metadata": {},
   "outputs": [],
   "source": [
    "# Since the standard deviations are so close (10.174 / 9.705 < 2), we can conduct a pooled \n",
    "# t-test for the differences in the means\n",
    "\n",
    "# It is handy to have some general things computed about the two groups before we begin\n",
    "n_college = graduated_college.shape[0]\n",
    "n_no_college = not_graduated_college.shape[0]"
   ]
  },
  {
   "cell_type": "code",
   "execution_count": 25,
   "metadata": {},
   "outputs": [
    {
     "data": {
      "text/plain": [
       "10.05923416897948"
      ]
     },
     "execution_count": 25,
     "metadata": {},
     "output_type": "execute_result"
    }
   ],
   "source": [
    "# First compute sp, the pooled standard deviation\n",
    "sp = np.sqrt(\n",
    "    ((n_college - 1) * sd_college_grad_heights ** 2 + (n_no_college - 1) * sd_non_college_grad_heights ** 2) / \n",
    "    (n_college + n_no_college - 2)\n",
    ")\n",
    "sp"
   ]
  },
  {
   "cell_type": "code",
   "execution_count": 26,
   "metadata": {},
   "outputs": [
    {
     "data": {
      "text/plain": [
       "0.314207353815695"
      ]
     },
     "execution_count": 26,
     "metadata": {},
     "output_type": "execute_result"
    }
   ],
   "source": [
    "# Then compute the pooled standard error\n",
    "pooled_se = sp * np.sqrt(1 / n_college + 1 / n_no_college)\n",
    "pooled_se"
   ]
  },
  {
   "cell_type": "code",
   "execution_count": 27,
   "metadata": {},
   "outputs": [
    {
     "data": {
      "text/plain": [
       "'The difference in the height of college grads less that of non-college grads is: 2.3888317064988485'"
      ]
     },
     "execution_count": 27,
     "metadata": {},
     "output_type": "execute_result"
    }
   ],
   "source": [
    "# And then we can access if there is a statistically significant difference between them\n",
    "degrees_of_freedom = n_college + n_no_college - 2\n",
    "difference_in_heights = np.mean(height_college_grads) - np.mean(height_non_college_grads)\n",
    "\"The difference in the height of college grads less that of non-college grads is: {}\".format(difference_in_heights)"
   ]
  },
  {
   "cell_type": "code",
   "execution_count": 28,
   "metadata": {},
   "outputs": [
    {
     "data": {
      "text/plain": [
       "'Our t-test statistic is 7.603'"
      ]
     },
     "execution_count": 28,
     "metadata": {},
     "output_type": "execute_result"
    }
   ],
   "source": [
    "t_stat = difference_in_heights / pooled_se\n",
    "\"Our t-test statistic is {:.3f}\".format(t_stat)"
   ]
  },
  {
   "cell_type": "code",
   "execution_count": 29,
   "metadata": {},
   "outputs": [
    {
     "data": {
      "text/plain": [
       "'Our p-value is: 3.39728e-14'"
      ]
     },
     "execution_count": 29,
     "metadata": {},
     "output_type": "execute_result"
    }
   ],
   "source": [
    "# Find the two-tailed probability\n",
    "one_tailed_prob = 1 - scipy.stats.t.cdf(t_stat, degrees_of_freedom)\n",
    "two_tailed_prob = one_tailed_prob * 2\n",
    "\"Our p-value is: {:.5e}\".format(two_tailed_prob)"
   ]
  },
  {
   "cell_type": "markdown",
   "metadata": {},
   "source": [
    "__Q2a.__ Based on the analysis performed here, are you confident that people who graduated from college have a different average height compared to people who did not graduate from college?"
   ]
  },
  {
   "cell_type": "code",
   "execution_count": 24,
   "metadata": {},
   "outputs": [
    {
     "data": {
      "text/plain": [
       "'With a p-value of 3.3973e-14, less than our alpha = 0.05, we have sufficient evidence to conclude the heights of college grads and non-college grads is different from zero.'"
      ]
     },
     "execution_count": 24,
     "metadata": {},
     "output_type": "execute_result"
    }
   ],
   "source": [
    "\"With a p-value of {:.4e}, less than our alpha = 0.05, we have sufficient evidence to conclude the heights of college grads and non-college grads is different from zero.\".format(two_tailed_prob) "
   ]
  },
  {
   "cell_type": "markdown",
   "metadata": {},
   "source": [
    "We can see there is a statistically significant difference, in our sample, between the heights of those who graduated from college and those who did not. Two things need to be taken with caution here though:\n",
    "\n",
    "1. The actual magnitude of the difference is a little over 2cm on average. It is up to you, the analyst, to determine if this is practically significant. Does this difference matter? Notice, this is different than statistical significance. \n",
    "2. It is likely the sample used for NHanes is not a perfect random sample. There may be hidden bias in this sample that we are not aware of.\n",
    "3. The sample size of both samples (college grads v non-college grads) are both pretty large. When the sample sizes are this large, almost *any* difference will be statistically significant. This is important because some analysts mistake practical significance with statistical significance: you should be just as careful with small sample sizes as you are with large sample sizes. "
   ]
  },
  {
   "cell_type": "markdown",
   "metadata": {},
   "source": [
    "**Built-in Approach**"
   ]
  },
  {
   "cell_type": "code",
   "execution_count": 34,
   "metadata": {},
   "outputs": [],
   "source": [
    "\n",
    "# from scipy import stats\n",
    "\n",
    "# # Perform Levene's test\n",
    "# stat, p_value = stats.levene(height_college_grads, height_non_college_grads)\n",
    "\n",
    "# print(f'Levene’s test statistic: {stat}')\n",
    "# print(f'P-value: {p_value}')\n",
    "\n",
    "# # Check the assumption\n",
    "# if p_value > 0.05:\n",
    "#     print(\"Fail to reject H0: Variances are equal (assume equal variances).\")\n",
    "# else:\n",
    "#     print(\"Reject H0: Variances are not equal (assume unequal variances).\")\n"
   ]
  },
  {
   "cell_type": "code",
   "execution_count": 39,
   "metadata": {},
   "outputs": [
    {
     "name": "stdout",
     "output_type": "stream",
     "text": [
      "T-statistic: 7.569245765210209\n",
      "P-value: 4.3868465661648286e-14\n"
     ]
    }
   ],
   "source": [
    "# import scipy.stats as stats\n",
    "\n",
    "\n",
    "# Perform the t-test for pooled two means\n",
    "t_statistic, p_value = stats.ttest_ind(height_college_grads, height_non_college_grads, equal_var=True)\n",
    "\n",
    "print(f'T-statistic: {t_statistic}')\n",
    "print(f'P-value: {p_value}')"
   ]
  },
  {
   "cell_type": "markdown",
   "metadata": {},
   "source": [
    "__Q2b:__ How do the results obtained using the heights expressed in inches compare to the results obtained using the heights expressed in centimeters?"
   ]
  },
  {
   "cell_type": "code",
   "execution_count": 35,
   "metadata": {},
   "outputs": [
    {
     "data": {
      "text/plain": [
       "'The t-test statistic is 7.60'"
      ]
     },
     "metadata": {},
     "output_type": "display_data"
    },
    {
     "data": {
      "text/plain": [
       "'Our p-value is: 3.39728e-14'"
      ]
     },
     "execution_count": 35,
     "metadata": {},
     "output_type": "execute_result"
    }
   ],
   "source": [
    "# Compute the heights in inches\n",
    "cm_to_inches = 1 / 2.54\n",
    "height_college_grads = graduated_college['BMXHT'].dropna() * cm_to_inches \n",
    "height_non_college_grads = not_graduated_college['BMXHT'].dropna() * cm_to_inches\n",
    "\n",
    "# Compute n1 and n2 along with the respective group standard deviations\n",
    "n_college = graduated_college.shape[0]\n",
    "n_no_college = not_graduated_college.shape[0]\n",
    "sd_college_grad_heights = np.std(height_college_grads, ddof = 1)\n",
    "sd_non_college_grad_heights = np.std(height_non_college_grads, ddof = 1)\n",
    "\n",
    "# First compute sp, the pooled standard deviation\n",
    "sp = np.sqrt(\n",
    "    ((n_college - 1) * sd_college_grad_heights ** 2 + (n_no_college - 1) * sd_non_college_grad_heights ** 2) / \n",
    "    (n_college + n_no_college - 2)\n",
    ")\n",
    "\n",
    "# Then compute the pooled standard error\n",
    "pooled_se = sp * np.sqrt(1 / n_college + 1 / n_no_college)\n",
    "\n",
    "# Compute the degrees of freedom and difference in heights\n",
    "degrees_of_freedom = n_college + n_no_college - 2\n",
    "difference_in_heights = np.mean(height_college_grads) - np.mean(height_non_college_grads)\n",
    "\n",
    "# Compute the t-test stat\n",
    "t_stat = difference_in_heights / pooled_se\n",
    "display(\"The t-test statistic is {:.2f}\".format(t_stat))\n",
    "\n",
    "one_tailed_prob = 1 - scipy.stats.t.cdf(t_stat, degrees_of_freedom)\n",
    "two_tailed_prob = one_tailed_prob * 2\n",
    "\"Our p-value is: {:.5e}\".format(two_tailed_prob)"
   ]
  },
  {
   "cell_type": "markdown",
   "metadata": {},
   "source": [
    "**Built-in Approach**"
   ]
  },
  {
   "cell_type": "code",
   "execution_count": 37,
   "metadata": {},
   "outputs": [
    {
     "name": "stdout",
     "output_type": "stream",
     "text": [
      "T-statistic: 7.56924576521022\n",
      "P-value: 4.3868465661645275e-14\n"
     ]
    }
   ],
   "source": [
    "# Perform the t-test for pooled two means\n",
    "t_statistic, p_value = stats.ttest_ind(height_college_grads, height_non_college_grads, equal_var=True)\n",
    "\n",
    "print(f'T-statistic: {t_statistic}')\n",
    "print(f'P-value: {p_value}')"
   ]
  },
  {
   "cell_type": "markdown",
   "metadata": {},
   "source": [
    "We can see, and should expect, the values of the t-test statistic and the p-value are identical between the analysis done in centimeters and the analysis done in inches. For almost any analysis one should be skeptical if a change in units changes the outcome of an analysis. In general, within statistics, good tests-for-differences should be indifferent towards what units the outcome is measured in. "
   ]
  },
  {
   "cell_type": "markdown",
   "metadata": {},
   "source": [
    "## Question 3\n",
    "\n",
    "Conduct a hypothesis test of the null hypothesis that the average BMI for men between 30 and 40 is equal to the average BMI for men between 50 and 60.  Then carry out this test again after log transforming the BMI values."
   ]
  },
  {
   "cell_type": "code",
   "execution_count": 26,
   "metadata": {},
   "outputs": [],
   "source": [
    "# In this example, we are not going to do the long-hand math but rather we are \n",
    "# going to lean on the scipy package for its help in computing the p-value of the \n",
    "# result\n",
    "\n",
    "# Single out men in the dataset\n",
    "men = da[da['RIAGENDR'] == 1]\n",
    "\n",
    "# Stratify the men based on their age\n",
    "thirty_to_fourty = men.query('RIDAGEYR >= 30 & RIDAGEYR <= 40')\n",
    "fifty_to_sixty = men.query('RIDAGEYR >= 50 & RIDAGEYR <= 60')\n",
    "\n",
    "# Extract the BMI from each of the age groups above\n",
    "thirty_to_fourty_bmi = thirty_to_fourty['BMXBMI']\n",
    "fifty_to_sixty_bmi = fifty_to_sixty['BMXBMI']"
   ]
  },
  {
   "cell_type": "code",
   "execution_count": 27,
   "metadata": {},
   "outputs": [
    {
     "data": {
      "text/plain": [
       "'The Standard Deviation for 30-40 year olds and 50-60 year olds is 6.66 and 6.00 respectively'"
      ]
     },
     "execution_count": 27,
     "metadata": {},
     "output_type": "execute_result"
    }
   ],
   "source": [
    "# First, we have to see if the standard deviations are similar enough to pool the data\n",
    "\"The Standard Deviation for 30-40 year olds and 50-60 year olds is {:.2f} and {:.2f} respectively\".format(\n",
    "    np.std(thirty_to_fourty_bmi, ddof = 1), \n",
    "    np.std(fifty_to_sixty_bmi, ddof = 1)\n",
    ")"
   ]
  },
  {
   "cell_type": "markdown",
   "metadata": {},
   "source": [
    "The standard deviations are similar enough to pool the data so we will do just that"
   ]
  },
  {
   "cell_type": "code",
   "execution_count": 28,
   "metadata": {},
   "outputs": [
    {
     "data": {
      "text/plain": [
       "'Non-log data: T-Test stat: 0.8984 | P-value: 0.3692'"
      ]
     },
     "execution_count": 28,
     "metadata": {},
     "output_type": "execute_result"
    }
   ],
   "source": [
    "# Compute the p-value and t-test stat:\n",
    "test_results = scipy.stats.ttest_ind(thirty_to_fourty_bmi, fifty_to_sixty_bmi, equal_var = True, nan_policy='omit')\n",
    "\"Non-log data: T-Test stat: {:.4f} | P-value: {:.4f}\".format(\n",
    "    test_results.statistic, \n",
    "    test_results.pvalue\n",
    ")"
   ]
  },
  {
   "cell_type": "code",
   "execution_count": 27,
   "metadata": {},
   "outputs": [
    {
     "data": {
      "text/plain": [
       "'Log data: T-Test stat: 0.7058 | P-value: 0.4805'"
      ]
     },
     "execution_count": 27,
     "metadata": {},
     "output_type": "execute_result"
    }
   ],
   "source": [
    "# Do the same for the log of the data\n",
    "log_thirty_to_fourty_bmi = [np.log(x) for x in thirty_to_fourty_bmi]\n",
    "log_fifty_to_sixty_bmi = [np.log(x) for x in fifty_to_sixty_bmi]\n",
    "\n",
    "log_test_results = scipy.stats.ttest_ind(log_thirty_to_fourty_bmi, log_fifty_to_sixty_bmi, equal_var = True, nan_policy='omit')\n",
    "\"Log data: T-Test stat: {:.4f} | P-value: {:.4f}\".format(\n",
    "    log_test_results.statistic, \n",
    "    log_test_results.pvalue\n",
    ")"
   ]
  },
  {
   "cell_type": "markdown",
   "metadata": {},
   "source": [
    "**Built-in Apprach**"
   ]
  },
  {
   "cell_type": "code",
   "execution_count": 40,
   "metadata": {},
   "outputs": [
    {
     "name": "stdout",
     "output_type": "stream",
     "text": [
      "Levene’s test: p-value = 0.1903 (Variances are equal)\n",
      "T-test on raw BMI: t-stat = 0.8984, p-value = 0.3692\n",
      "T-test on log-transformed BMI: t-stat = 0.7058, p-value = 0.4805\n"
     ]
    }
   ],
   "source": [
    "import numpy as np\n",
    "import scipy.stats as stats\n",
    "\n",
    "# Filter dataset for men\n",
    "men = da[da['RIAGENDR'] == 1]\n",
    "\n",
    "# Stratify by age groups\n",
    "bmi_30_40 = men.loc[(men['RIDAGEYR'] >= 30) & (men['RIDAGEYR'] <= 40), 'BMXBMI']\n",
    "bmi_50_60 = men.loc[(men['RIDAGEYR'] >= 50) & (men['RIDAGEYR'] <= 60), 'BMXBMI']\n",
    "\n",
    "# Check for equal variance using Levene’s test\n",
    "levene_stat, levene_p = stats.levene(bmi_30_40.dropna(), bmi_50_60.dropna())\n",
    "\n",
    "# Print variance test result\n",
    "if levene_p > 0.05:\n",
    "    print(\"Levene’s test: p-value = {:.4f} (Variances are equal)\".format(levene_p))\n",
    "else:\n",
    "    print(\"Levene’s test: p-value = {:.4f} (Variances are NOT equal, but assuming equal variance)\".format(levene_p))\n",
    "\n",
    "# Perform t-test on raw BMI values (assuming equal variance)\n",
    "t_stat_raw, p_value_raw = stats.ttest_ind(bmi_30_40, bmi_50_60, equal_var=True, nan_policy='omit')\n",
    "\n",
    "# Log-transform BMI values\n",
    "log_bmi_30_40 = np.log(bmi_30_40.dropna())\n",
    "log_bmi_50_60 = np.log(bmi_50_60.dropna())\n",
    "\n",
    "# Perform t-test on log-transformed BMI values (assuming equal variance)\n",
    "t_stat_log, p_value_log = stats.ttest_ind(log_bmi_30_40, log_bmi_50_60, equal_var=True, nan_policy='omit')\n",
    "\n",
    "# Print results\n",
    "print(f\"T-test on raw BMI: t-stat = {t_stat_raw:.4f}, p-value = {p_value_raw:.4f}\")\n",
    "print(f\"T-test on log-transformed BMI: t-stat = {t_stat_log:.4f}, p-value = {p_value_log:.4f}\")\n"
   ]
  },
  {
   "cell_type": "markdown",
   "metadata": {},
   "source": [
    "__Q3a.__ How would you characterize the evidence that mean BMI differs between these age bands, and how would you characterize the evidence that mean log BMI differs between these age bands?"
   ]
  },
  {
   "cell_type": "markdown",
   "metadata": {},
   "source": [
    "We can see that taking the log of the data actually changes the p-value of the measurements. Unlike a change in units (which is a linear change), a non-linear change, like taking the log, actually changes the intrepretation of the data and thus it changes the analysis we are performing.\n",
    "\n",
    "* For the non-log data (normal data) we are asking if the measures of BMI are the same or different across groups.\n",
    "* For the log-data (transformed data) we are asking if the *magnitude* of the measures of BMI are the same or different across groups.\n",
    "\n",
    "Each question, and analysis, has its place and there are motivations for doing one or the other depending on the question that you are trying to answer with statistics. "
   ]
  },
  {
   "cell_type": "code",
   "execution_count": 28,
   "metadata": {},
   "outputs": [
    {
     "data": {
      "text/plain": [
       "'Log data: With a p-value of 0.4805, greater than our alpha of 0.05, we have insufficient evidence to reject the null hypothesis that there is no significant difference betweeen the magnitude of the BMI of 30-40 year old males and 50-60 year old males'"
      ]
     },
     "execution_count": 28,
     "metadata": {},
     "output_type": "execute_result"
    }
   ],
   "source": [
    "\"Log data: With a p-value of {:.4f}, greater than our alpha of 0.05, we have insufficient evidence to reject the null hypothesis that there is no significant difference betweeen the magnitude of the BMI of 30-40 year old males and 50-60 year old males\".format(log_test_results.pvalue)"
   ]
  },
  {
   "cell_type": "code",
   "execution_count": 29,
   "metadata": {},
   "outputs": [
    {
     "data": {
      "text/plain": [
       "'Non-Log data: With a p-value of 0.3692, greater than our alpha of 0.05, we have insufficient evidence to reject the null hypothesis that there is no significant difference betweeen the BMI of 30-40 year old males and 50-60 year old males'"
      ]
     },
     "execution_count": 29,
     "metadata": {},
     "output_type": "execute_result"
    }
   ],
   "source": [
    "\"Non-Log data: With a p-value of {:.4f}, greater than our alpha of 0.05, we have insufficient evidence to reject the null hypothesis that there is no significant difference betweeen the BMI of 30-40 year old males and 50-60 year old males\".format(test_results.pvalue)"
   ]
  },
  {
   "cell_type": "markdown",
   "metadata": {},
   "source": [
    "## Question 4\n",
    "\n",
    "Suppose we wish to compare the mean BMI between college graduates and people who have not graduated from college, focusing on women between the ages of 30 and 40.  First, consider the variance of BMI within each of these subpopulations using graphical techniques, and through the estimated subpopulation variances.  Then, calculate pooled and unpooled estimates of the standard error for the difference between the mean BMI in the two populations being compared.  Finally, test the null hypothesis that the two population means are equal, using each of the two different standard errors."
   ]
  },
  {
   "cell_type": "code",
   "execution_count": 29,
   "metadata": {},
   "outputs": [],
   "source": [
    "# First filter for women who are between 30 and fourty years old\n",
    "women = da.query('RIAGENDR == 2')\n",
    "thirty_to_fourty = women.query('RIDAGEYR >= 30 & RIDAGEYR <= 40')\n",
    "\n",
    "# Next, extract college grads and non-college grads\n",
    "graduated_college = thirty_to_fourty.query('DMDEDUC2 == 5')\n",
    "not_graduated_college = thirty_to_fourty.query('DMDEDUC2 in [1, 2, 3, 4]')\n",
    "xx = thirty_to_fourty[[x in [1,2,3,4] for x in thirty_to_fourty[\"DMDEDUC2\"]]]\n",
    "\n",
    "# Lastly, extract the bmi for college and non-college grads\n",
    "college_bmi = graduated_college['BMXBMI']\n",
    "no_college_bmi = not_graduated_college['BMXBMI']"
   ]
  },
  {
   "cell_type": "code",
   "execution_count": 30,
   "metadata": {},
   "outputs": [
    {
     "data": {
      "text/plain": [
       "'We have 174 bmi samples from those women between 30 and fourty years of age who have completed college and 358 samples from those women between 30 and fourty years of age who have not'"
      ]
     },
     "execution_count": 30,
     "metadata": {},
     "output_type": "execute_result"
    }
   ],
   "source": [
    "n_bmi_college = college_bmi.shape[0]\n",
    "n_bmi_no_college = no_college_bmi.shape[0]\n",
    "\"We have {} bmi samples from those women between 30 and fourty years of age who have completed college and {} samples from those women between 30 and fourty years of age who have not\".format(n_bmi_college, n_bmi_no_college)"
   ]
  },
  {
   "cell_type": "code",
   "execution_count": 36,
   "metadata": {},
   "outputs": [
    {
     "data": {
      "text/plain": [
       "<seaborn.axisgrid.FacetGrid at 0x760b7656f150>"
      ]
     },
     "execution_count": 36,
     "metadata": {},
     "output_type": "execute_result"
    },
    {
     "data": {
      "image/png": "[encoded data removed]",
      "text/plain": [
       "<Figure size 500x500 with 1 Axes>"
      ]
     },
     "metadata": {},
     "output_type": "display_data"
    }
   ],
   "source": [
    "# First, lets compare the variance between the two populations using histograms\n",
    "\n",
    "sns.displot(college_bmi)"
   ]
  },
  {
   "cell_type": "code",
   "execution_count": 32,
   "metadata": {},
   "outputs": [
    {
     "data": {
      "text/plain": [
       "<seaborn.axisgrid.FacetGrid at 0x760b767bbc10>"
      ]
     },
     "execution_count": 32,
     "metadata": {},
     "output_type": "execute_result"
    },
    {
     "data": {
      "image/png": "[encoded data removed]",
      "text/plain": [
       "<Figure size 500x500 with 1 Axes>"
      ]
     },
     "metadata": {},
     "output_type": "display_data"
    }
   ],
   "source": [
    "sns.displot(no_college_bmi)"
   ]
  },
  {
   "cell_type": "markdown",
   "metadata": {},
   "source": [
    "We can see the variance in BMI for those who have not completed college is visually larger than the BMI for those women who have not completed college"
   ]
  },
  {
   "cell_type": "code",
   "execution_count": 37,
   "metadata": {},
   "outputs": [
    {
     "data": {
      "text/plain": [
       "'The standard deviation for the BMI for women with college experience is 7.3583'"
      ]
     },
     "metadata": {},
     "output_type": "display_data"
    },
    {
     "data": {
      "text/plain": [
       "'The standard deviation for the BMI for women with no college experience is 8.2561'"
      ]
     },
     "metadata": {},
     "output_type": "display_data"
    }
   ],
   "source": [
    "# Now, lets compute the standard deviations\n",
    "sd_college_bmi = np.std(college_bmi, ddof = 1)\n",
    "sd_no_college_bmi = np.std(no_college_bmi, ddof = 1)\n",
    "display(\"The standard deviation for the BMI for women with college experience is {:.4f}\".format(sd_college_bmi))\n",
    "display(\"The standard deviation for the BMI for women with no college experience is {:.4f}\".format(sd_no_college_bmi))"
   ]
  },
  {
   "cell_type": "markdown",
   "metadata": {},
   "source": [
    "The numerical analysis agrees with our visual intuition that the spread of the variance of BMI is larger for those women who completed college is smaller than the variance of BMI for those women who did not"
   ]
  },
  {
   "cell_type": "markdown",
   "metadata": {},
   "source": [
    "__Q4a.__ Comment on the strength of evidence against the null hypothesis that these two populations have equal mean BMI."
   ]
  },
  {
   "cell_type": "code",
   "execution_count": 38,
   "metadata": {},
   "outputs": [],
   "source": [
    "# First, we have to run the statistical analysis to compare the two populations\n",
    "# We will use the scipy package since we have already done the math long-hand above\n",
    "ttest_result = scipy.stats.ttest_ind(college_bmi, no_college_bmi, equal_var=True, nan_policy=\"omit\")"
   ]
  },
  {
   "cell_type": "code",
   "execution_count": 39,
   "metadata": {},
   "outputs": [
    {
     "data": {
      "text/plain": [
       "'The t-test stat for our analysis is -4.6439 and the corresponding p-value is 4.3298e-06'"
      ]
     },
     "execution_count": 39,
     "metadata": {},
     "output_type": "execute_result"
    }
   ],
   "source": [
    "\"The t-test stat for our analysis is {:.4f} and the corresponding p-value is {:.4e}\".format(\n",
    "    ttest_result.statistic, \n",
    "    ttest_result.pvalue\n",
    ")"
   ]
  },
  {
   "cell_type": "code",
   "execution_count": 40,
   "metadata": {},
   "outputs": [
    {
     "data": {
      "text/plain": [
       "'With a p-value of 4.33e-06, less than our alpha of 0.05, we have sufficient evidence to conclude there is a significant difference between the BMI of women between 30 and 40 years of age who have completed college compared to those women who are between 30 and 40 years old who have not completed college'"
      ]
     },
     "execution_count": 40,
     "metadata": {},
     "output_type": "execute_result"
    }
   ],
   "source": [
    "(\"With a p-value of {:.2e}, less than our alpha of 0.05, we have \".format(ttest_result.pvalue) +\n",
    "\"sufficient evidence to conclude there is a significant difference between the \" + \n",
    "\"BMI of women between 30 and 40 years of age who have completed college compared to those \"\n",
    "\"women who are between 30 and 40 years old who have not completed college\")"
   ]
  },
  {
   "cell_type": "code",
   "execution_count": 41,
   "metadata": {},
   "outputs": [
    {
     "data": {
      "text/plain": [
       "'The t-test stat for our analysis is -4.8337 and the corresponding p-value is 1.9621e-06'"
      ]
     },
     "metadata": {},
     "output_type": "display_data"
    },
    {
     "data": {
      "text/plain": [
       "'With a p-value of 1.96e-06, less than our alpha of 0.05, we have sufficient evidence to conclude there is a significant difference between the BMI of women between 30 and 40 years of age who have completed college compared to those women who are between 30 and 40 years old who have not completed college'"
      ]
     },
     "execution_count": 41,
     "metadata": {},
     "output_type": "execute_result"
    }
   ],
   "source": [
    "# Similarly, we can run a test for non-pooled variances\n",
    "ttest_result = scipy.stats.ttest_ind(college_bmi, no_college_bmi, equal_var=False, nan_policy=\"omit\")\n",
    "display(\"The t-test stat for our analysis is {:.4f} and the corresponding p-value is {:.4e}\".format(\n",
    "    ttest_result.statistic, \n",
    "    ttest_result.pvalue\n",
    "))\n",
    "(\"With a p-value of {:.2e}, less than our alpha of 0.05, we have \".format(ttest_result.pvalue) +\n",
    "\"sufficient evidence to conclude there is a significant difference between the \" + \n",
    "\"BMI of women between 30 and 40 years of age who have completed college compared to those \"\n",
    "\"women who are between 30 and 40 years old who have not completed college\")"
   ]
  },
  {
   "cell_type": "markdown",
   "metadata": {},
   "source": [
    "**Built-in Apprach**"
   ]
  },
  {
   "cell_type": "code",
   "execution_count": 47,
   "metadata": {},
   "outputs": [
    {
     "data": {
      "image/png": "[encoded data removed]",
      "text/plain": [
       "<Figure size 1000x500 with 1 Axes>"
      ]
     },
     "metadata": {},
     "output_type": "display_data"
    },
    {
     "name": "stdout",
     "output_type": "stream",
     "text": [
      "Levene’s test: p-value = 0.0553 (Variances are equal)\n",
      "The pooled standard error is 0.7136\n",
      "The non-pooled standard error is 0.7136\n",
      "Pooled T-test: t-stat = -4.6439, p-value = 0.0000\n",
      "Unpooled (Welch’s) T-test: t-stat = -4.8337, p-value = 0.0000\n"
     ]
    }
   ],
   "source": [
    "# import numpy as np\n",
    "# import scipy.stats as stats\n",
    "# import seaborn as sns\n",
    "# import matplotlib.pyplot as plt\n",
    "\n",
    "# Filter for women aged 30-40\n",
    "women = da[da['RIAGENDR'] == 2]\n",
    "women_30_40 = women[(women['RIDAGEYR'] >= 30) & (women['RIDAGEYR'] <= 40)]\n",
    "\n",
    "# Extract college graduates and non-graduates\n",
    "college_grads = women_30_40[women_30_40['DMDEDUC2'] == 5]\n",
    "non_grads = women_30_40[women_30_40['DMDEDUC2'].isin([1, 2, 3, 4])]\n",
    "\n",
    "# Extract BMI values\n",
    "bmi_college = college_grads['BMXBMI'].dropna()\n",
    "bmi_no_college = non_grads['BMXBMI'].dropna()\n",
    "\n",
    "# Plot distributions to compare variance visually\n",
    "plt.figure(figsize=(10,5))\n",
    "sns.histplot(bmi_college, label=\"College Graduates\", kde=True, color=\"blue\", alpha=0.5)\n",
    "sns.histplot(bmi_no_college, label=\"Non-College Graduates\", kde=True, color=\"red\", alpha=0.5)\n",
    "plt.legend()\n",
    "plt.title(\"BMI Distribution by Education Level (Women 30-40)\")\n",
    "plt.xlabel(\"BMI\")\n",
    "plt.ylabel(\"Frequency\")\n",
    "plt.show()\n",
    "\n",
    "# Compute sample sizes and standard deviations\n",
    "n_college = len(bmi_college)\n",
    "n_no_college = len(bmi_no_college)\n",
    "sd_college = np.std(bmi_college, ddof=1)\n",
    "sd_no_college = np.std(bmi_no_college, ddof=1)\n",
    "\n",
    "# Conduct Levene's test for equality of variances\n",
    "levene_stat, levene_p = stats.levene(bmi_college, bmi_no_college)\n",
    "if levene_p > 0.05:\n",
    "    print(f\"Levene’s test: p-value = {levene_p:.4f} (Variances are equal)\")\n",
    "else:\n",
    "    print(f\"Levene’s test: p-value = {levene_p:.4f} (Variances are NOT equal)\")\n",
    "\n",
    "# # Compute pooled standard error\n",
    "pooled_se = np.sqrt(((sd_college**2 / n_college) + (sd_no_college**2 / n_no_college)))\n",
    "# # Compute unpooled (Welch’s) standard error\n",
    "unpooled_se = np.sqrt((sd_college**2 / n_college) + (sd_no_college**2 / n_no_college))\n",
    "\n",
    "# Perform t-tests\n",
    "ttest_pooled = stats.ttest_ind(bmi_college, bmi_no_college, equal_var=True, nan_policy=\"omit\")\n",
    "ttest_unpooled = stats.ttest_ind(bmi_college, bmi_no_college, equal_var=False, nan_policy=\"omit\")\n",
    "\n",
    "# Print results\n",
    "print(\"The pooled standard error is {:.4f}\".format(pooled_se))\n",
    "print(\"The non-pooled standard error is {:.4f}\".format(unpooled_se))\n",
    "print(f\"Pooled T-test: t-stat = {ttest_pooled.statistic:.4f}, p-value = {ttest_pooled.pvalue:.4f}\")\n",
    "print(f\"Unpooled (Welch’s) T-test: t-stat = {ttest_unpooled.statistic:.4f}, p-value = {ttest_unpooled.pvalue:.4f}\")\n"
   ]
  },
  {
   "cell_type": "markdown",
   "metadata": {},
   "source": [
    "__Q4b.__ Comment on the degree to which the two populations have different variances, and on the extent to which the results using different approaches to estimating the standard error of the mean difference give divergent results."
   ]
  },
  {
   "cell_type": "code",
   "execution_count": 39,
   "metadata": {},
   "outputs": [],
   "source": [
    "# First, we need to compute the two variances -- one pooled and one unpooled"
   ]
  },
  {
   "cell_type": "code",
   "execution_count": 42,
   "metadata": {},
   "outputs": [
    {
     "data": {
      "text/plain": [
       "'The non-pooled standard error is 0.7082'"
      ]
     },
     "execution_count": 42,
     "metadata": {},
     "output_type": "execute_result"
    }
   ],
   "source": [
    "# Compute the non-pooled variance:\n",
    "non_pooled_standard_error = np.sqrt(sd_college_bmi ** 2 / n_bmi_college + sd_no_college_bmi ** 2 / n_bmi_no_college)\n",
    "\"The non-pooled standard error is {:.4f}\".format(non_pooled_standard_error)"
   ]
  },
  {
   "cell_type": "code",
   "execution_count": 43,
   "metadata": {},
   "outputs": [
    {
     "data": {
      "text/plain": [
       "'The pooled standard error is 0.7369'"
      ]
     },
     "execution_count": 43,
     "metadata": {},
     "output_type": "execute_result"
    }
   ],
   "source": [
    "# Compute the pooled variance:\n",
    "sd_pooled = np.sqrt(((n_bmi_college - 1) * sd_college_bmi ** 2 + (n_bmi_no_college - 1) * sd_no_college_bmi ** 2) / (n_bmi_college + n_bmi_no_college - 2))\n",
    "pooled_standard_error = sd_pooled * np.sqrt(1 / n_bmi_college + 1 / n_bmi_no_college)\n",
    "\"The pooled standard error is {:.4f}\".format(pooled_standard_error)"
   ]
  },
  {
   "cell_type": "markdown",
   "metadata": {},
   "source": [
    "We can see the estimate of the standard error, for the pooled case, is larger than that for the non-pooled case. This doesn't have much significance on its own: while the difference between the populations will be computed the same way in both analysis (unpooled and pooled variance analysis), we also need to account for the degrees of freedom are different in both cases. We need to know both the effect the degrees of freedom has on the t-distribution for the test statistic as well as the standard error if we are going to compute the full effect.\n",
    "\n",
    "We can see that in the significance tests above, we found that if we assume we cannot use unpooled variances, we get a larger t-test statistic. The fact that the standard error of the non-pooled analysis is smaller than that of the pooled analysis is evidence that this is correct. \n"
   ]
  },
  {
   "cell_type": "markdown",
   "metadata": {},
   "source": [
    "### **Alternative Commentary on Variance and Results Divergence**  \r\n",
    "\r\n",
    "#### **Variance Comparison:**\r\n",
    "- The **Levene’s test p-value = 0.0553**, which is slightly above the **0.05 threshold**.  \r\n",
    "- This means there is **not enough evidence to reject the null hypothesis of equal variances**, so we assume **variances are equal** for the t-test.  \r\n",
    "- The pooled and unpooled standard errors are **almost identical (0.7136 in both cases)**, reinforcing the idea that the variances are indeed very similar.\r\n",
    "\r\n",
    "#### **Comparison of T-test Results:**\r\n",
    "- The **pooled t-test statistic** is **-4.6439**, while the **unpooled (Welch’s) t-test statistic** is **-4.8337**.  \r\n",
    "- Both tests yield **extremely small p-values (0.0000)**, indicating a statistically significant difference in means.  \r\n",
    "- The difference in t-statistics is minor, suggesting that the choice of pooled vs. unpooled standard error **does not substantially affect the results in this case**.  \r\n",
    "\r\n",
    "### **Conclusion:**  \r\n",
    "Since the variances are **not significantly different**, and the standard error estimates are **almost identical**, both approaches lead to nearly the same conclusion:  \r\n",
    "**a significant difference in BMI between college graduates and non-graduates among women aged 30-40**.  \r\n",
    "\r\n",
    "This suggests that, in this case, using a pooled standard error is appropriate, but the choice of method does not impact the overall inference.\r\n"
   ]
  },
  {
   "cell_type": "markdown",
   "metadata": {},
   "source": [
    "## Question 5\n",
    "\n",
    "Conduct a test of the null hypothesis that the first and second diastolic blood pressure measurements within a subject have the same mean values."
   ]
  },
  {
   "cell_type": "code",
   "execution_count": 44,
   "metadata": {},
   "outputs": [],
   "source": [
    "# First, get the data from the dataset\n",
    "first_diastolic = da['BPXDI1']\n",
    "second_diastolic = da['BPXDI2']"
   ]
  },
  {
   "cell_type": "code",
   "execution_count": 45,
   "metadata": {},
   "outputs": [],
   "source": [
    "# Compute the vector of the differences for the paired mean test\n",
    "differences = first_diastolic - second_diastolic\n",
    "n_differences = differences.shape[0]"
   ]
  },
  {
   "cell_type": "code",
   "execution_count": 46,
   "metadata": {},
   "outputs": [],
   "source": [
    "# Compute x-bar of the differences and the standard deviation of the differences\n",
    "mean_of_differences = np.mean(differences)\n",
    "sd_of_differences = np.std(differences, ddof = 1)\n",
    "\n",
    "# Compute the standard error of the differences\n",
    "standard_error = sd_of_differences / np.sqrt(n_differences)"
   ]
  },
  {
   "cell_type": "code",
   "execution_count": 47,
   "metadata": {},
   "outputs": [
    {
     "data": {
      "text/plain": [
       "'Our t-stat for the differences is: 4.2792'"
      ]
     },
     "execution_count": 47,
     "metadata": {},
     "output_type": "execute_result"
    }
   ],
   "source": [
    "# Compute the t-test statistic\n",
    "t_stat = mean_of_differences / standard_error\n",
    "\"Our t-stat for the differences is: {:.4f}\".format(t_stat)"
   ]
  },
  {
   "cell_type": "code",
   "execution_count": 48,
   "metadata": {},
   "outputs": [
    {
     "data": {
      "text/plain": [
       "'Our p-value is: 1.9063e-05'"
      ]
     },
     "execution_count": 48,
     "metadata": {},
     "output_type": "execute_result"
    }
   ],
   "source": [
    "# Compute the p-value. Remember, we are computing a two sided interval since we \n",
    "# are not asking for a one-sided test\n",
    "degrees_of_freedom = n_differences\n",
    "p_value = 2 * (1 - scipy.stats.t.cdf(t_stat, degrees_of_freedom))\n",
    "\"Our p-value is: {:.4e}\".format(p_value)"
   ]
  },
  {
   "cell_type": "markdown",
   "metadata": {},
   "source": [
    "**Built-in Approach**"
   ]
  },
  {
   "cell_type": "code",
   "execution_count": 51,
   "metadata": {},
   "outputs": [
    {
     "name": "stdout",
     "output_type": "stream",
     "text": [
      "Paired T-test: t-stat = 4.1404, p-value = 0.0000\n"
     ]
    }
   ],
   "source": [
    "# import scipy.stats as stats\n",
    "\n",
    "# First, get the data from the dataset\n",
    "first_diastolic = da['BPXDI1']\n",
    "second_diastolic = da['BPXDI2']\n",
    "\n",
    "# Conduct the paired t-test\n",
    "t_stat, p_value = stats.ttest_rel(first_diastolic, second_diastolic, nan_policy='omit')\n",
    "\n",
    "# Print the results\n",
    "print(f\"Paired T-test: t-stat = {t_stat:.4f}, p-value = {p_value:.4f}\")\n"
   ]
  },
  {
   "cell_type": "markdown",
   "metadata": {},
   "source": [
    "__Q5a.__ Briefly describe your findings for an audience that is not familiar with statistical hypothesis testing."
   ]
  },
  {
   "cell_type": "markdown",
   "metadata": {},
   "source": [
    "We have sufficient evidence to conclude there is a significant difference between the first and the second diastolic blood pressure measurements of an individual in the NHanes study"
   ]
  },
  {
   "cell_type": "markdown",
   "metadata": {},
   "source": [
    "__Q5b.__ Pretend that the first and second diastolic blood pressure measurements were taken on different people.  Modify the analysis above as appropriate for this setting."
   ]
  },
  {
   "cell_type": "code",
   "execution_count": null,
   "metadata": {},
   "outputs": [],
   "source": [
    "# We have already done a lot of the math for this in the previous questions, so we are going to default\n",
    "# to using the tools in python for this question! We can use the t-test for independence in the \n",
    "# scipy package to quickly test this hypothesis.\n",
    "\n",
    "ttest_results = scipy.stats.ttest_ind(first_diastolic, second_diastolic, equal_var=False, nan_policy=\"omit\")\n",
    "\"With a p-value of {:.4f}, greater than our alpha of 0.05, we do not have sufficient evidence to conclude there is a significant difference between the first and the second diastolic measures\".format(ttest_results.pvalue)"
   ]
  },
  {
   "cell_type": "markdown",
   "metadata": {},
   "source": [
    "__Q5c.__ Briefly describe how the approaches used and the results obtained in the preceding two parts of the question differ."
   ]
  },
  {
   "cell_type": "markdown",
   "metadata": {},
   "source": [
    "When we ran a test comparing an individual to themselves, as we did in part a, we were running a really interesting study called a paired study. In this type of study, you use an individual as their own control group. This type of control allows researches to account for individual differences more precisely -- when you have the option to do so, often a paired study will have the highest power because it is able to control for all of the the things that make an individual unique: many of these things may not be controlled in the study in question. \n",
    "\n",
    "In part b, we assumed that the first and the second diastolic measures came from two different populations. You can almost imagine that there are two groups of people: those that had a first diastolic measure and a group that only had a second diastolic measure. You are now not comparing an individual to themselves. Rather, you are treating all of the measurements of the first diastolic pressure as independent from the second diastolic pressure measure. \n",
    "\n",
    "We can see that this distinction, while subtle, actually changes the direction of our decision. When running the paired study, we see there is a significant difference. When doing the independent t-test, we notice there is no significant difference. When you are setting up your study, you should always be careful and aware of how you chose to measure your subjects, what measures you are including, and how to best control for covariates that are outside of your control. In general, you should be thinking about the statistics all throughout the experimental process and not just at the end when you have all of your data. "
   ]
  }
 ],
 "metadata": {
  "kernelspec": {
   "display_name": "Python 3 (ipykernel)",
   "language": "python",
   "name": "python3"
  },
  "language_info": {
   "codemirror_mode": {
    "name": "ipython",
    "version": 3
   },
   "file_extension": ".py",
   "mimetype": "text/x-python",
   "name": "python",
   "nbconvert_exporter": "python",
   "pygments_lexer": "ipython3",
   "version": "3.11.4"
  }
 },
 "nbformat": 4,
 "nbformat_minor": 4
}
