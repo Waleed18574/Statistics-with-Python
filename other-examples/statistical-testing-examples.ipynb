{
 "cells": [
  {
   "cell_type": "markdown",
   "metadata": {},
   "source": [
    " ## **Chi-Square Test**\n",
    "\n",
    " ### **Intro**:\n",
    "\n",
    " The chi-square test is a statistical test used to compare observed data with expected data. It determines whether a difference between observed and expected data is due to chance or a relationship between the variables.\n",
    "\n",
    " **Purpose**: Used to analyze categorical data (data that falls into categories). It determines if there's a statistically significant association between two categorical variables. \n",
    "\n",
    "**Key points**:\n",
    "\n",
    "**Categorical data**: Chi-square tests are used when your data is in categories (e.g., colors, types of fruit, etc.).\n",
    "\n",
    "**Observed vs. expected**: The test compares what you actually observe in your data with what you would expect to see if there were no relationship between the variables.\n",
    "\n",
    "**Independence**: A common use of the chi-square test is to determine if two categorical variables are independent of each other.\n",
    "Types of chi-square tests:\n",
    "\n",
    "**Goodness of fit**: Tests if the observed distribution of a single categorical variable matches a hypothesized distribution.\n",
    "**Test of independence**: Tests if two categorical variables are independent of each other.\n",
    "\n",
    "**Assumptions**:\n",
    "\n",
    "Data must be categorical.\n",
    "Observations must be independent.\n",
    "Sample size should be large enough.\n",
    "\n",
    "### **Scenario**: \n",
    "\n",
    "A researcher wants to know if there's an association between gender (Male/Female) and preference for a certain type of movie (Action/Comedy/Drama).\n",
    "\n",
    "Data:  Observed frequencies of movie preference by gender:\n",
    "\n",
    "|             | Action | Comedy | Drama |\n",
    "|-------------|--------|--------|-------|\n",
    "| Male        | 40     | 30     | 20    |\n",
    "| Female      | 25     | 35     | 30    |"
   ]
  },
  {
   "cell_type": "code",
   "execution_count": 1,
   "metadata": {},
   "outputs": [
    {
     "name": "stdout",
     "output_type": "stream",
     "text": [
      "Chi-square statistic: 5.846153846153847\n",
      "P-value: 0.05376799253902105\n",
      "Degrees of freedom: 2\n",
      "Expected frequencies:\n",
      " [[32.5 32.5 25. ]\n",
      " [32.5 32.5 25. ]]\n",
      "Fail to reject the null hypothesis: There is no significant association.\n"
     ]
    }
   ],
   "source": [
    "import numpy as np\n",
    "from scipy.stats import chi2_contingency\n",
    "\n",
    "observed = np.array([[40, 30, 20], [25, 35, 30]])\n",
    "chi2, p, dof, expected = chi2_contingency(observed)\n",
    "\n",
    "print(\"Chi-square statistic:\", chi2)\n",
    "print(\"P-value:\", p)\n",
    "print(\"Degrees of freedom:\", dof)\n",
    "print(\"Expected frequencies:\\n\", expected)\n",
    "\n",
    "alpha = 0.05  # Significance level\n",
    "if p < alpha:\n",
    "    print(\"Reject the null hypothesis: There is an association between gender and movie preference.\")\n",
    "else:\n",
    "    print(\"Fail to reject the null hypothesis: There is no significant association.\")"
   ]
  },
  {
   "cell_type": "markdown",
   "metadata": {},
   "source": [
    "**Interpretation**: The code calculates the chi-square statistic, p-value, degrees of freedom, and expected frequencies. If the p-value is less than the chosen significance level (e.g., 0.05), we reject the null hypothesis. The null hypothesis states that there is no association. Rejecting it means we have evidence of an association. The expected frequencies tell us what the counts would be if there were no relationship. "
   ]
  },
  {
   "cell_type": "markdown",
   "metadata": {},
   "source": [
    "---"
   ]
  },
  {
   "cell_type": "markdown",
   "metadata": {},
   "source": [
    "## **Z-Test**\n",
    "\n",
    "### **Intro**\n",
    "\n",
    "A z-test is used when the population standard deviation is known or when the sample size is large (typically n > 30). The z-test uses the standard normal distribution to calculate the test statistic.\n",
    "\n",
    "**Purpose**: Used to compare the mean of a sample to a known population mean when the population standard deviation is known.   \n",
    "\n",
    "**Assumptions**:\n",
    "- Data is normally distributed (or sample size is large enough for the Central Limit Theorem to apply).   \n",
    "- Population standard deviation is known.   \n",
    "\n",
    "### **Scenario**: \n",
    "A manufacturer claims their light bulbs have an average lifespan of 1000 hours with a standard deviation of 50 hours.  A sample of 40 bulbs is tested, and their average lifespan is 980 hours.  Is there evidence to suggest the manufacturer's claim is incorrect?\n",
    "\n",
    "**Data**: \n",
    "Sample mean (x̄) = 980, Population mean (μ) = 1000, Population standard deviation (σ) = 50, Sample size (n) = 40\n",
    "\n",
    "\n"
   ]
  },
  {
   "cell_type": "code",
   "execution_count": 2,
   "metadata": {},
   "outputs": [
    {
     "name": "stdout",
     "output_type": "stream",
     "text": [
      "Z-score: -2.5298221281347035\n",
      "P-value: 0.011412036386001651\n",
      "Reject the null hypothesis: The manufacturer's claim is incorrect.\n"
     ]
    }
   ],
   "source": [
    "import scipy.stats as stats\n",
    "\n",
    "x_bar = 980\n",
    "mu = 1000\n",
    "sigma = 50\n",
    "n = 40\n",
    "\n",
    "z = (x_bar - mu) / (sigma / np.sqrt(n))\n",
    "p = stats.norm.cdf(z) * 2  # Two-tailed test\n",
    "\n",
    "print(\"Z-score:\", z)\n",
    "print(\"P-value:\", p)\n",
    "\n",
    "alpha = 0.05\n",
    "if p < alpha:\n",
    "    print(\"Reject the null hypothesis: The manufacturer's claim is incorrect.\")\n",
    "else:\n",
    "    print(\"Fail to reject the null hypothesis: There is not enough evidence to refute the claim.\")"
   ]
  },
  {
   "cell_type": "markdown",
   "metadata": {},
   "source": [
    "**Interpretation**: \n",
    "The z-test determines if the sample mean is significantly different from the population mean. The p-value is the probability of observing a sample mean as extreme as the one obtained, assuming the null hypothesis (manufacturer's claim is true) is correct. A small p-value suggests the null hypothesis is unlikely."
   ]
  },
  {
   "cell_type": "markdown",
   "metadata": {},
   "source": [
    "---"
   ]
  },
  {
   "cell_type": "markdown",
   "metadata": {},
   "source": [
    "## **T-Test**\n",
    "### **Intro**\n",
    "A t-test is used when the population standard deviation is unknown and the sample size is small (typically n < 30). The t-test uses the t-distribution to calculate the test statistic. The t-distribution is similar to the standard normal distribution, but it has heavier tails. This means that the t-test is more likely to find a significant difference between the means of two groups when the sample size is small.\n",
    "\n",
    "**Purpose**: Used to analyze categorical data (data that falls into categories). It determines if there's a statistically significant association between two categorical variables. \n",
    "\n",
    "**Assumptions**:\n",
    "- Data is categorical.   \n",
    "- Observations are independent of each other.\n",
    "- Expected cell frequencies are generally greater than 5 (some exceptions for 2x2 tables).\n",
    "\n",
    "### **Scenario**: \n",
    "A teacher wants to compare the test scores of two groups of students (Group A and Group B).\n",
    "\n",
    "**Data**:\n",
    "\n",
    "Group A: [75, 80, 85, 90, 95]\n",
    "\n",
    "Group B: [70, 78, 82, 88, 92]"
   ]
  },
  {
   "cell_type": "code",
   "execution_count": 3,
   "metadata": {},
   "outputs": [
    {
     "name": "stdout",
     "output_type": "stream",
     "text": [
      "T-statistic: 0.5741692517632145\n",
      "P-value: 0.5816333668955778\n",
      "Fail to reject the null hypothesis: There is no significant difference.\n"
     ]
    }
   ],
   "source": [
    "# import scipy.stats as stats\n",
    "\n",
    "group_a = [75, 80, 85, 90, 95]\n",
    "group_b = [70, 78, 82, 88, 92]\n",
    "\n",
    "t_statistic, p_value = stats.ttest_ind(group_a, group_b) # independent samples t-test\n",
    "\n",
    "print(\"T-statistic:\", t_statistic)\n",
    "print(\"P-value:\", p_value)\n",
    "\n",
    "alpha = 0.05\n",
    "if p_value < alpha:\n",
    "    print(\"Reject the null hypothesis: There is a significant difference in test scores between the two groups.\")\n",
    "else:\n",
    "    print(\"Fail to reject the null hypothesis: There is no significant difference.\")"
   ]
  },
  {
   "cell_type": "markdown",
   "metadata": {},
   "source": [
    "**Interpretation**: The t-test is used when the population standard deviation is unknown. It determines if there's a significant difference between the means of two groups. The independent samples t-test assumes the two groups are independent."
   ]
  },
  {
   "cell_type": "markdown",
   "metadata": {},
   "source": [
    "---"
   ]
  },
  {
   "cell_type": "markdown",
   "metadata": {},
   "source": [
    "## **ANOVA (Analysis of Variance)**\n",
    "### **Intro**\n",
    "ANOVA, which stands for Analysis of Variance, is a statistical test used to compare the means of three or more groups. It's a powerful tool in statistics that helps us understand if there are significant differences between the groups or if the observed differences are just due to random chance.\n",
    "\n",
    "**Purpose**: Used to compare the means of three or more groups.\n",
    "\n",
    "**Assumptions**:\n",
    "- Data is normally distributed within each group.\n",
    "- Variances of the groups are equal.\n",
    "- Observations are independent of each other.\n",
    "\n",
    "### **Scenario**: \n",
    "A researcher wants to compare the effectiveness of three different teaching methods on student performance.\n",
    "\n",
    "**Data**: Test scores for each method:\n",
    "\n",
    "- Method A: [70, 80, 85, 90]\n",
    "- Method B: [75, 82, 88, 92]\n",
    "- Method C: [65, 75, 80, 85]"
   ]
  },
  {
   "cell_type": "code",
   "execution_count": 6,
   "metadata": {},
   "outputs": [
    {
     "name": "stdout",
     "output_type": "stream",
     "text": [
      "F-statistic: 0.976338729763387\n",
      "P-value: 0.41328529131373615\n",
      "Fail to reject the null hypothesis: There is no significant difference.\n"
     ]
    }
   ],
   "source": [
    "# import scipy.stats as stats\n",
    "\n",
    "method_a = [70, 80, 85, 90]\n",
    "method_b = [75, 82, 88, 92]\n",
    "method_c = [65, 75, 80, 85]\n",
    "\n",
    "f_statistic, p_value = stats.f_oneway(method_a, method_b, method_c)\n",
    "\n",
    "print(\"F-statistic:\", f_statistic)\n",
    "print(\"P-value:\", p_value)\n",
    "\n",
    "alpha = 0.05\n",
    "if p_value < alpha:\n",
    "    print(\"Reject the null hypothesis: There is a significant difference in effectiveness among the teaching methods.\")\n",
    "else:\n",
    "    print(\"Fail to reject the null hypothesis: There is no significant difference.\")"
   ]
  },
  {
   "cell_type": "markdown",
   "metadata": {},
   "source": [
    "---"
   ]
  },
  {
   "cell_type": "markdown",
   "metadata": {},
   "source": [
    "## **MANOVA (Multivariate Analysis of Variance)**\n",
    "\n",
    "### **Intro**\n",
    "MANOVA, or Multivariate Analysis of Variance, is like the more advanced relevant test of ANOVA. It's used when you have multiple dependent variables and you want to see if they are all influenced by your independent variable.\n",
    "\n",
    "**Purpose**: Used to compare the means of three or more groups on two or more dependent variables simultaneously.\n",
    "\n",
    "**Assumptions**:\n",
    "- Data is normally distributed within each group on all dependent variables.\n",
    "- Variance-covariance matrices of the groups are equal.\n",
    "- Observations are independent of each other.\n",
    "\n",
    "\n",
    "### **Scenario**:\n",
    "\n",
    "A researcher wants to investigate the effects of different teaching methods (lecture-based, project-based, and online) on student outcomes.  Specifically, they are interested in how these methods influence both test scores and student engagement levels.  Recognizing that students' prior academic achievement might also play a role, the researcher includes prior achievement as a covariate in the analysis.\n",
    "\n",
    "A researcher is interested in examining how different teaching methods influence student performance. Specifically, they measure two dependent variables:\n",
    "\n",
    "**Dependent Variables**\n",
    "\n",
    "- Student Engagement Levels (measured on a scale of 1–10)\n",
    "- The independent variable is the Teaching Method, categorized as:\n",
    "\n",
    "**Independet Variable**\n",
    "\n",
    "Teaching Method which can be Lecture-Based, Project-Based, Online Learning\n",
    "\n",
    "**Hypothesis**\n",
    "Null Hypothesis (H₀): There is no significant difference in student outcomes (test scores and engagement levels) across different teaching methods.\n",
    "Alternative Hypothesis (H₁): At least one of the teaching methods leads to significantly different student outcomes.\n",
    "\n",
    "\n",
    "**Data**"
   ]
  },
  {
   "cell_type": "code",
   "execution_count": 9,
   "metadata": {},
   "outputs": [
    {
     "name": "stdout",
     "output_type": "stream",
     "text": [
      "  Teaching_Method  Test_Score  Engagement_Level\n",
      "0   Lecture-Based   74.967142          5.097078\n",
      "1   Lecture-Based   68.617357          5.968645\n",
      "2   Lecture-Based   76.476885          4.297947\n",
      "3   Lecture-Based   85.230299          4.672338\n",
      "4   Lecture-Based   67.658466          4.607892\n"
     ]
    }
   ],
   "source": [
    "import numpy as np\n",
    "import pandas as pd\n",
    "import seaborn as sns\n",
    "import matplotlib.pyplot as plt\n",
    "from sklearn.preprocessing import LabelEncoder\n",
    "from statsmodels.multivariate.manova import MANOVA\n",
    "\n",
    "# Set random seed for reproducibility\n",
    "np.random.seed(42)\n",
    "\n",
    "# Sample size\n",
    "n = 30  # Number of students per group\n",
    "\n",
    "# Teaching Methods\n",
    "methods = [\"Lecture-Based\", \"Project-Based\", \"Online\"]\n",
    "\n",
    "# Generate synthetic data\n",
    "data = {\n",
    "    \"Teaching_Method\": np.repeat(methods, n),\n",
    "    \"Test_Score\": np.concatenate([\n",
    "        np.random.normal(70, 10, n),  # Lecture-Based\n",
    "        np.random.normal(80, 12, n),  # Project-Based\n",
    "        np.random.normal(75, 11, n)   # Online\n",
    "    ]),\n",
    "    \"Engagement_Level\": np.concatenate([\n",
    "        np.random.normal(5, 1, n),  # Lecture-Based\n",
    "        np.random.normal(8, 1, n),  # Project-Based\n",
    "        np.random.normal(6.5, 1, n) # Online\n",
    "    ])\n",
    "}\n",
    "\n",
    "# Create DataFrame\n",
    "df = pd.DataFrame(data)\n",
    "\n",
    "# Convert categorical variable to numerical for MANOVA\n",
    "df[\"Teaching_Method\"] = df[\"Teaching_Method\"].astype(\"category\")\n",
    "\n",
    "# Display first few rows\n",
    "print(df.head())\n"
   ]
  },
  {
   "cell_type": "code",
   "execution_count": 12,
   "metadata": {},
   "outputs": [
    {
     "name": "stdout",
     "output_type": "stream",
     "text": [
      "                Test_Score                                              \\\n",
      "                     count       mean        std        min        25%   \n",
      "Teaching_Method                                                          \n",
      "Lecture-Based         30.0  68.118531   9.000064  50.867198  64.089491   \n",
      "Online                30.0  75.141732  10.911813  46.182804  69.344439   \n",
      "Project-Based         30.0  78.546050  11.173226  56.483959  71.490636   \n",
      "\n",
      "                                                  Engagement_Level            \\\n",
      "                       50%        75%         max            count      mean   \n",
      "Teaching_Method                                                                \n",
      "Lecture-Based    67.658548  73.603353   85.792128             30.0  4.979748   \n",
      "Online           75.281716  83.114823   92.211080             30.0  6.778787   \n",
      "Project-Based    79.225127  86.535941  102.227338             30.0  7.905042   \n",
      "\n",
      "                                                                              \n",
      "                      std       min       25%       50%       75%        max  \n",
      "Teaching_Method                                                               \n",
      "Lecture-Based    0.908822  3.081229  4.620240  4.969387  5.287354   7.463242  \n",
      "Online           0.947366  5.308697  5.923817  6.784882  7.313316   9.220169  \n",
      "Project-Based    1.024160  6.392517  7.027242  8.084107  8.570628  10.190456  \n"
     ]
    }
   ],
   "source": [
    "# Summary statistics by teaching method\n",
    "summary_stats = df.groupby(\"Teaching_Method\",observed=True)[[\"Test_Score\", \"Engagement_Level\"]].describe()\n",
    "print(summary_stats)\n"
   ]
  },
  {
   "cell_type": "code",
   "execution_count": 11,
   "metadata": {},
   "outputs": [
    {
     "data": {
      "image/png": "[encoded data removed]",
      "text/plain": [
       "<Figure size 1200x500 with 2 Axes>"
      ]
     },
     "metadata": {},
     "output_type": "display_data"
    }
   ],
   "source": [
    "# Boxplots for test scores and engagement levels\n",
    "fig, axes = plt.subplots(1, 2, figsize=(12, 5))\n",
    "\n",
    "sns.boxplot(x=\"Teaching_Method\", y=\"Test_Score\", data=df, ax=axes[0])\n",
    "axes[0].set_title(\"Test Scores by Teaching Method\")\n",
    "\n",
    "sns.boxplot(x=\"Teaching_Method\", y=\"Engagement_Level\", data=df, ax=axes[1])\n",
    "axes[1].set_title(\"Engagement Levels by Teaching Method\")\n",
    "\n",
    "plt.xticks(rotation=15)\n",
    "plt.show()\n"
   ]
  },
  {
   "cell_type": "code",
   "execution_count": 13,
   "metadata": {},
   "outputs": [
    {
     "name": "stdout",
     "output_type": "stream",
     "text": [
      "                   Multivariate linear model\n",
      "===============================================================\n",
      "                                                               \n",
      "---------------------------------------------------------------\n",
      "       Intercept         Value  Num DF  Den DF  F Value  Pr > F\n",
      "---------------------------------------------------------------\n",
      "          Wilks' lambda  0.0374 2.0000 86.0000 1107.5285 0.0000\n",
      "         Pillai's trace  0.9626 2.0000 86.0000 1107.5285 0.0000\n",
      " Hotelling-Lawley trace 25.7565 2.0000 86.0000 1107.5285 0.0000\n",
      "    Roy's greatest root 25.7565 2.0000 86.0000 1107.5285 0.0000\n",
      "---------------------------------------------------------------\n",
      "                                                               \n",
      "---------------------------------------------------------------\n",
      "      Teaching_Method     Value  Num DF  Den DF  F Value Pr > F\n",
      "---------------------------------------------------------------\n",
      "            Wilks' lambda 0.3461 4.0000 172.0000 30.0893 0.0000\n",
      "           Pillai's trace 0.6543 4.0000 174.0000 21.1512 0.0000\n",
      "   Hotelling-Lawley trace 1.8879 4.0000 102.1690 40.4372 0.0000\n",
      "      Roy's greatest root 1.8872 2.0000  87.0000 82.0938 0.0000\n",
      "===============================================================\n",
      "\n"
     ]
    }
   ],
   "source": [
    "# Perform MANOVA\n",
    "maov = MANOVA.from_formula(\"Test_Score + Engagement_Level ~ Teaching_Method\", data=df)\n",
    "print(maov.mv_test())\n"
   ]
  },
  {
   "cell_type": "markdown",
   "metadata": {},
   "source": [
    "### **Interpreting the Results**\n",
    "The MANOVA output provides four different test statistics: Wilks' Lambda, Pillai's Trace, Hotelling's Trace, and Roy's Largest Root. The most commonly used is Wilks' Lambda.\n",
    "\n",
    "**Key Interpretation**:\n",
    "\n",
    "A small Wilks' Lambda (close to 0) suggests a strong effect of the independent variable (teaching method) on the dependent variables (test score & engagement).\n",
    "A large p-value (> 0.05) means we fail to reject the null hypothesis, implying that the teaching method does not significantly impact student outcomes.\n",
    "A small p-value (< 0.05) indicates at least one group differs significantly.\n",
    "\n",
    "MANOVA test results show that Teaching_Method has a statistically significant effect on the dependent variables (Test_Score and Engagement_Level). Let's break it down:\n",
    "\n",
    "### **Key Statistics Interpretation**\n",
    "**Wilks' Lambda (λ)**\n",
    "- Teaching_Method: 0.3461, F(4, 86) = 30.08, p = 0.0000\n",
    "- A lower Wilks' Lambda (closer to 0) indicates a stronger effect of Teaching Method on the dependent variables.\n",
    "- The p-value (0.0000) is less than 0.05, meaning the teaching method has a significant effect.\n",
    "\n",
    "**Pillai’s Trace**\n",
    "- Value = 0.6543, p = 0.0000\n",
    "- This supports the finding that Teaching Method significantly affects student outcomes.\n",
    "\n",
    "**Hotelling-Lawley Trace**\n",
    "- Value = 1.8879, p = 0.0000\n",
    "- Also confirms that at least one teaching method differs significantly.\n",
    "\n",
    "**Roy’s Largest Root**\n",
    "- Value = 1.8872, p = 0.0000\n",
    "- Further supports significant differences among groups.\n",
    "\n",
    "**Conclusion**\n",
    "Since all tests show a significant effect (p < 0.05), we reject the null hypothesis, meaning that at least one of the teaching methods has a different effect on student test scores and engagement levels."
   ]
  },
  {
   "cell_type": "markdown",
   "metadata": {},
   "source": [
    "**Follow-Up Analysis**\n",
    "Since  MANOVA results indicate a significant difference, we can perform separate ANOVAs for each dependent variable to pinpoint which outcome is affected."
   ]
  },
  {
   "cell_type": "code",
   "execution_count": 14,
   "metadata": {},
   "outputs": [
    {
     "name": "stdout",
     "output_type": "stream",
     "text": [
      "ANOVA for Test Scores:\n",
      "                      sum_sq    df         F    PR(>F)\n",
      "Teaching_Method  1696.478978   2.0  7.832076  0.000745\n",
      "Residual         9422.384704  87.0       NaN       NaN\n",
      "\n",
      "ANOVA for Engagement Levels:\n",
      "                     sum_sq    df          F        PR(>F)\n",
      "Teaching_Method  130.623317   2.0  70.674333  5.889163e-19\n",
      "Residual          80.398555  87.0        NaN           NaN\n"
     ]
    }
   ],
   "source": [
    "import statsmodels.api as sm\n",
    "from statsmodels.formula.api import ols\n",
    "\n",
    "# ANOVA for Test Scores\n",
    "anova_test = ols(\"Test_Score ~ Teaching_Method\", data=df).fit()\n",
    "anova_results_test = sm.stats.anova_lm(anova_test, typ=2)\n",
    "print(\"ANOVA for Test Scores:\")\n",
    "print(anova_results_test)\n",
    "\n",
    "# ANOVA for Engagement Levels\n",
    "anova_engagement = ols(\"Engagement_Level ~ Teaching_Method\", data=df).fit()\n",
    "anova_results_engagement = sm.stats.anova_lm(anova_engagement, typ=2)\n",
    "print(\"\\nANOVA for Engagement Levels:\")\n",
    "print(anova_results_engagement)\n"
   ]
  },
  {
   "cell_type": "markdown",
   "metadata": {},
   "source": [
    "## 1. ANOVA for Test Scores\n",
    "| Source           | Sum of Squares (SS) | df  | F       | p-value (PR(>F))  |\n",
    "|-----------------|-------------------|-----|---------|-------------------|\n",
    "| Teaching Method | 1696.48            | 2   | 7.83    | **0.000745**      |\n",
    "| Residual (Error)| 9422.38            | 87  | NaN     | NaN               |\n",
    "\n",
    "- **F(2, 87) = 7.83**, **p = 0.000745**\n",
    "- Since **p < 0.05**, we **reject the null hypothesis**, meaning that the **teaching method significantly affects test scores**.\n",
    "- However, ANOVA does not tell us **which teaching methods differ**, so a **post-hoc test (Tukey's HSD)** is needed.\n",
    "\n",
    "---\n",
    "\n",
    "## 2. ANOVA for Engagement Levels\n",
    "| Source           | Sum of Squares (SS) | df  | F       | p-value (PR(>F))  |\n",
    "|-----------------|-------------------|-----|---------|-------------------|\n",
    "| Teaching Method | 130.62             | 2   | 70.67   | **5.88e-19**      |\n",
    "| Residual (Error)| 80.39              | 87  | NaN     | NaN               |\n",
    "\n",
    "- **F(2, 87) = 70.67**, **p = 5.88e-19 (essentially 0)**\n",
    "- Since **p < 0.05**, we **reject the null hypothesis**, meaning that **teaching method has an even stronger effect on engagement levels** compared to test scores.\n",
    "\n",
    "---\n",
    "\n",
    "## Key Takeaways\n",
    "1. **Both test scores and engagement levels are significantly affected by the teaching method.**\n",
    "2. The effect on **engagement levels is much stronger (F = 70.67) than on test scores (F = 7.83)**.\n",
    "3. We now need **post-hoc tests (Tukey's HSD)** to determine which specific teaching methods differ.\n",
    "\n",
    "Would you like to proceed with Tukey's post-hoc test to compare pairs of teaching methods? 🚀\n"
   ]
  }
 ],
 "metadata": {
  "kernelspec": {
   "display_name": "data_analysis",
   "language": "python",
   "name": "python3"
  },
  "language_info": {
   "codemirror_mode": {
    "name": "ipython",
    "version": 3
   },
   "file_extension": ".py",
   "mimetype": "text/x-python",
   "name": "python",
   "nbconvert_exporter": "python",
   "pygments_lexer": "ipython3",
   "version": "3.12.3"
  }
 },
 "nbformat": 4,
 "nbformat_minor": 2
}
